{
 "cells": [
  {
   "cell_type": "code",
   "execution_count": 28,
   "metadata": {},
   "outputs": [],
   "source": [
    "import pandas as pd\n",
    "import numpy as np"
   ]
  },
  {
   "cell_type": "code",
   "execution_count": 2,
   "metadata": {},
   "outputs": [],
   "source": [
    "good_google=[10, 39, 54, 57, 65, 77, 97, 101, 104, 111, 138, 142, 154, 157, 159, 192, 211, 213, 214, 251, 256, 270, 281, 293, 342, 353, 354, 399]\n",
    "good_amazon=[19, 24, 57, 61, 98, 104, 121, 155, 156, 206, 211, 239, 256, 271, 284, 293, 301, 309, 311, 330, 331, 337, 340, 350, 381, 382, 390]"
   ]
  },
  {
   "cell_type": "code",
   "execution_count": 3,
   "metadata": {},
   "outputs": [],
   "source": [
    "id_df=pd.read_csv('google-amazon-after.csv', sep='|')"
   ]
  },
  {
   "cell_type": "code",
   "execution_count": 10,
   "metadata": {
    "scrolled": true
   },
   "outputs": [
    {
     "data": {
      "text/html": [
       "<div>\n",
       "<style scoped>\n",
       "    .dataframe tbody tr th:only-of-type {\n",
       "        vertical-align: middle;\n",
       "    }\n",
       "\n",
       "    .dataframe tbody tr th {\n",
       "        vertical-align: top;\n",
       "    }\n",
       "\n",
       "    .dataframe thead th {\n",
       "        text-align: right;\n",
       "    }\n",
       "</style>\n",
       "<table border=\"1\" class=\"dataframe\">\n",
       "  <thead>\n",
       "    <tr style=\"text-align: right;\">\n",
       "      <th></th>\n",
       "      <th>ID</th>\n",
       "      <th>google_asr_after_sep</th>\n",
       "      <th>amazon_asr_after_sep</th>\n",
       "    </tr>\n",
       "  </thead>\n",
       "  <tbody>\n",
       "    <tr>\n",
       "      <th>10</th>\n",
       "      <td>mix6_1</td>\n",
       "      <td>very comfortable and its very blurry that was ...</td>\n",
       "      <td>very comfortable and its very blurry that was ...</td>\n",
       "    </tr>\n",
       "    <tr>\n",
       "      <th>39</th>\n",
       "      <td>mix20_2</td>\n",
       "      <td>it takes place on upward a newfoundland i mean...</td>\n",
       "      <td>it takes place in a new land i mean but this c...</td>\n",
       "    </tr>\n",
       "    <tr>\n",
       "      <th>54</th>\n",
       "      <td>mix28_1</td>\n",
       "      <td>anthem kick there for a second job which is st...</td>\n",
       "      <td>kick there for a second uh which is stressful ...</td>\n",
       "    </tr>\n",
       "    <tr>\n",
       "      <th>57</th>\n",
       "      <td>mix29_2</td>\n",
       "      <td>you know said they had been opened</td>\n",
       "      <td>and i havent seen him since last night</td>\n",
       "    </tr>\n",
       "    <tr>\n",
       "      <th>65</th>\n",
       "      <td>mix33_2</td>\n",
       "      <td>traveling like id like to you know i like to d...</td>\n",
       "      <td>traveling like id like to you know i like to d...</td>\n",
       "    </tr>\n",
       "    <tr>\n",
       "      <th>77</th>\n",
       "      <td>mix39_2</td>\n",
       "      <td>watchable</td>\n",
       "      <td>deadlines and all come together actually be wa...</td>\n",
       "    </tr>\n",
       "    <tr>\n",
       "      <th>97</th>\n",
       "      <td>mix49_2</td>\n",
       "      <td>it one of the most beautiful spots on the eart...</td>\n",
       "      <td>one of the most beautiful spots on the earth a...</td>\n",
       "    </tr>\n",
       "    <tr>\n",
       "      <th>101</th>\n",
       "      <td>mix51_2</td>\n",
       "      <td>people out there that are the voice for the vo...</td>\n",
       "      <td>people out there that are the voice for the vo...</td>\n",
       "    </tr>\n",
       "    <tr>\n",
       "      <th>104</th>\n",
       "      <td>mix53_1</td>\n",
       "      <td>they lost me i was like i do not have the abil...</td>\n",
       "      <td>they lost me i was like i i do not have the ab...</td>\n",
       "    </tr>\n",
       "    <tr>\n",
       "      <th>111</th>\n",
       "      <td>mix56_2</td>\n",
       "      <td>like you know i was i didnt know what to say b...</td>\n",
       "      <td>you know i was uh i didnt know what to say bec...</td>\n",
       "    </tr>\n",
       "    <tr>\n",
       "      <th>138</th>\n",
       "      <td>mix70_1</td>\n",
       "      <td>i have met him that that time so i really want...</td>\n",
       "      <td>uh i had met him that that time so i really wa...</td>\n",
       "    </tr>\n",
       "    <tr>\n",
       "      <th>142</th>\n",
       "      <td>mix72_1</td>\n",
       "      <td>listening to what</td>\n",
       "      <td>i studied those things that i studied that foo...</td>\n",
       "    </tr>\n",
       "    <tr>\n",
       "      <th>154</th>\n",
       "      <td>mix78_1</td>\n",
       "      <td>because your lives are intertwined you interact</td>\n",
       "      <td>um because your lives are intertwined interactive</td>\n",
       "    </tr>\n",
       "    <tr>\n",
       "      <th>157</th>\n",
       "      <td>mix79_2</td>\n",
       "      <td>and i think women are saying that so you its a...</td>\n",
       "      <td>and i think women are saying that so it it its...</td>\n",
       "    </tr>\n",
       "    <tr>\n",
       "      <th>159</th>\n",
       "      <td>mix80_2</td>\n",
       "      <td>that was one of the first time i could see mys...</td>\n",
       "      <td>that was one of the first time i could actuall...</td>\n",
       "    </tr>\n",
       "    <tr>\n",
       "      <th>192</th>\n",
       "      <td>mix97_1</td>\n",
       "      <td>to twod or even amazing pixar animation out ev...</td>\n",
       "      <td>two d or even amazing pizza animation everythi...</td>\n",
       "    </tr>\n",
       "    <tr>\n",
       "      <th>211</th>\n",
       "      <td>mix106_2</td>\n",
       "      <td>continuty weather is how camera works like i g...</td>\n",
       "      <td>continuity but it was how camera works like i ...</td>\n",
       "    </tr>\n",
       "    <tr>\n",
       "      <th>213</th>\n",
       "      <td>mix107_2</td>\n",
       "      <td>i think the most successful bands are not ever...</td>\n",
       "      <td>i think the most successful bands are not ever...</td>\n",
       "    </tr>\n",
       "    <tr>\n",
       "      <th>214</th>\n",
       "      <td>mix108_1</td>\n",
       "      <td>for that it was a brave still i think its a th...</td>\n",
       "      <td>for that it was a brave still i think its i th...</td>\n",
       "    </tr>\n",
       "    <tr>\n",
       "      <th>251</th>\n",
       "      <td>mix126_2</td>\n",
       "      <td>so thats kind of cool to me and one of the thi...</td>\n",
       "      <td>so thats kind of cool to me and one of the thi...</td>\n",
       "    </tr>\n",
       "    <tr>\n",
       "      <th>256</th>\n",
       "      <td>mix129_1</td>\n",
       "      <td>we have got rid of things we were the first to...</td>\n",
       "      <td>we have gotten rid of things we were the first...</td>\n",
       "    </tr>\n",
       "    <tr>\n",
       "      <th>270</th>\n",
       "      <td>mix136_1</td>\n",
       "      <td>its not here i see being made to do so with th...</td>\n",
       "      <td>its not on her own shes been made to do someth...</td>\n",
       "    </tr>\n",
       "    <tr>\n",
       "      <th>281</th>\n",
       "      <td>mix141_2</td>\n",
       "      <td>yeah what what is those demons we are hearing ...</td>\n",
       "      <td>um yeah what what is those demons we are heari...</td>\n",
       "    </tr>\n",
       "    <tr>\n",
       "      <th>293</th>\n",
       "      <td>mix147_2</td>\n",
       "      <td>it just has a little bit more but it is really...</td>\n",
       "      <td>this bus is a little bit more but it is really...</td>\n",
       "    </tr>\n",
       "    <tr>\n",
       "      <th>342</th>\n",
       "      <td>mix172_1</td>\n",
       "      <td>yeah i just im just aware wanting to you know ...</td>\n",
       "      <td>yeah i just im just aware of wanting to you kn...</td>\n",
       "    </tr>\n",
       "    <tr>\n",
       "      <th>353</th>\n",
       "      <td>mix177_2</td>\n",
       "      <td>its just so much fun you get to hang out with ...</td>\n",
       "      <td>its just so much fun you get to hang out with ...</td>\n",
       "    </tr>\n",
       "    <tr>\n",
       "      <th>354</th>\n",
       "      <td>mix178_1</td>\n",
       "      <td>is what you mentioned did not turn out to be t...</td>\n",
       "      <td>is what you mentioned did not turn out to be t...</td>\n",
       "    </tr>\n",
       "    <tr>\n",
       "      <th>399</th>\n",
       "      <td>mix200_2</td>\n",
       "      <td>which was so nice she just sent them to my hou...</td>\n",
       "      <td>which was so nice she just sent them to my hou...</td>\n",
       "    </tr>\n",
       "  </tbody>\n",
       "</table>\n",
       "</div>"
      ],
      "text/plain": [
       "           ID                               google_asr_after_sep  \\\n",
       "10     mix6_1  very comfortable and its very blurry that was ...   \n",
       "39    mix20_2  it takes place on upward a newfoundland i mean...   \n",
       "54    mix28_1  anthem kick there for a second job which is st...   \n",
       "57    mix29_2                 you know said they had been opened   \n",
       "65    mix33_2  traveling like id like to you know i like to d...   \n",
       "77    mix39_2                                          watchable   \n",
       "97    mix49_2  it one of the most beautiful spots on the eart...   \n",
       "101   mix51_2  people out there that are the voice for the vo...   \n",
       "104   mix53_1  they lost me i was like i do not have the abil...   \n",
       "111   mix56_2  like you know i was i didnt know what to say b...   \n",
       "138   mix70_1  i have met him that that time so i really want...   \n",
       "142   mix72_1                                  listening to what   \n",
       "154   mix78_1    because your lives are intertwined you interact   \n",
       "157   mix79_2  and i think women are saying that so you its a...   \n",
       "159   mix80_2  that was one of the first time i could see mys...   \n",
       "192   mix97_1  to twod or even amazing pixar animation out ev...   \n",
       "211  mix106_2  continuty weather is how camera works like i g...   \n",
       "213  mix107_2  i think the most successful bands are not ever...   \n",
       "214  mix108_1  for that it was a brave still i think its a th...   \n",
       "251  mix126_2  so thats kind of cool to me and one of the thi...   \n",
       "256  mix129_1  we have got rid of things we were the first to...   \n",
       "270  mix136_1  its not here i see being made to do so with th...   \n",
       "281  mix141_2  yeah what what is those demons we are hearing ...   \n",
       "293  mix147_2  it just has a little bit more but it is really...   \n",
       "342  mix172_1  yeah i just im just aware wanting to you know ...   \n",
       "353  mix177_2  its just so much fun you get to hang out with ...   \n",
       "354  mix178_1  is what you mentioned did not turn out to be t...   \n",
       "399  mix200_2  which was so nice she just sent them to my hou...   \n",
       "\n",
       "                                  amazon_asr_after_sep  \n",
       "10   very comfortable and its very blurry that was ...  \n",
       "39   it takes place in a new land i mean but this c...  \n",
       "54   kick there for a second uh which is stressful ...  \n",
       "57              and i havent seen him since last night  \n",
       "65   traveling like id like to you know i like to d...  \n",
       "77   deadlines and all come together actually be wa...  \n",
       "97   one of the most beautiful spots on the earth a...  \n",
       "101  people out there that are the voice for the vo...  \n",
       "104  they lost me i was like i i do not have the ab...  \n",
       "111  you know i was uh i didnt know what to say bec...  \n",
       "138  uh i had met him that that time so i really wa...  \n",
       "142  i studied those things that i studied that foo...  \n",
       "154  um because your lives are intertwined interactive  \n",
       "157  and i think women are saying that so it it its...  \n",
       "159  that was one of the first time i could actuall...  \n",
       "192  two d or even amazing pizza animation everythi...  \n",
       "211  continuity but it was how camera works like i ...  \n",
       "213  i think the most successful bands are not ever...  \n",
       "214  for that it was a brave still i think its i th...  \n",
       "251  so thats kind of cool to me and one of the thi...  \n",
       "256  we have gotten rid of things we were the first...  \n",
       "270  its not on her own shes been made to do someth...  \n",
       "281  um yeah what what is those demons we are heari...  \n",
       "293  this bus is a little bit more but it is really...  \n",
       "342  yeah i just im just aware of wanting to you kn...  \n",
       "353  its just so much fun you get to hang out with ...  \n",
       "354  is what you mentioned did not turn out to be t...  \n",
       "399  which was so nice she just sent them to my hou...  "
      ]
     },
     "execution_count": 10,
     "metadata": {},
     "output_type": "execute_result"
    }
   ],
   "source": [
    "id_df.iloc[good_google]"
   ]
  },
  {
   "cell_type": "code",
   "execution_count": 20,
   "metadata": {},
   "outputs": [],
   "source": [
    "id_df['google_asr']='degraded'\n",
    "id_df['amazon_asr']='degraded'\n",
    "id_df.iloc[good_google, id_df.columns.get_loc('google_asr')]='improved'\n",
    "id_df.iloc[good_amazon, id_df.columns.get_loc('amazon_asr')]='improved'"
   ]
  },
  {
   "cell_type": "code",
   "execution_count": 21,
   "metadata": {},
   "outputs": [
    {
     "data": {
      "text/plain": [
       "degraded    373\n",
       "improved     27\n",
       "Name: amazon_asr, dtype: int64"
      ]
     },
     "execution_count": 21,
     "metadata": {},
     "output_type": "execute_result"
    }
   ],
   "source": [
    "id_df['amazon_asr'].value_counts()"
   ]
  },
  {
   "cell_type": "code",
   "execution_count": 6,
   "metadata": {},
   "outputs": [],
   "source": [
    "mosnet_df = pd.read_csv(\"MOSnet_analysis/MOSnet_results_before_after.csv\")"
   ]
  },
  {
   "cell_type": "code",
   "execution_count": 7,
   "metadata": {},
   "outputs": [],
   "source": [
    "mosnet_df['ID']=mosnet_df['name'].str.split('.wav').str[0]\n",
    "id_df['ID']=id_df['ID'].str.replace('_original','')"
   ]
  },
  {
   "cell_type": "code",
   "execution_count": 24,
   "metadata": {},
   "outputs": [],
   "source": [
    "results_df=mosnet_df.merge(id_df, on='ID')"
   ]
  },
  {
   "cell_type": "code",
   "execution_count": 29,
   "metadata": {},
   "outputs": [],
   "source": [
    "results_df['mosnet']=np.where(results_df['separation']> results_df['original'], 'improved', 'degraded')"
   ]
  },
  {
   "cell_type": "code",
   "execution_count": 34,
   "metadata": {},
   "outputs": [
    {
     "data": {
      "text/plain": [
       "google_asr  amazon_asr\n",
       "degraded    degraded      350\n",
       "            improved       22\n",
       "improved    degraded       23\n",
       "            improved        5\n",
       "Name: ID, dtype: int64"
      ]
     },
     "execution_count": 34,
     "metadata": {},
     "output_type": "execute_result"
    }
   ],
   "source": [
    "results_df.groupby(['google_asr', 'amazon_asr'])['ID'].count()"
   ]
  },
  {
   "cell_type": "code",
   "execution_count": 37,
   "metadata": {},
   "outputs": [
    {
     "data": {
      "text/plain": [
       "mosnet    google_asr\n",
       "degraded  degraded      269\n",
       "          improved       15\n",
       "improved  degraded      103\n",
       "          improved       13\n",
       "Name: ID, dtype: int64"
      ]
     },
     "execution_count": 37,
     "metadata": {},
     "output_type": "execute_result"
    }
   ],
   "source": [
    "results_df.groupby(['mosnet', 'google_asr'])['ID'].count()"
   ]
  },
  {
   "cell_type": "code",
   "execution_count": 38,
   "metadata": {},
   "outputs": [
    {
     "data": {
      "text/plain": [
       "mosnet    amazon_asr\n",
       "degraded  degraded      269\n",
       "          improved       15\n",
       "improved  degraded      104\n",
       "          improved       12\n",
       "Name: ID, dtype: int64"
      ]
     },
     "execution_count": 38,
     "metadata": {},
     "output_type": "execute_result"
    }
   ],
   "source": [
    "results_df.groupby(['mosnet', 'amazon_asr'])['ID'].count()"
   ]
  },
  {
   "cell_type": "code",
   "execution_count": 33,
   "metadata": {},
   "outputs": [
    {
     "data": {
      "text/plain": [
       "mosnet    google_asr  amazon_asr\n",
       "degraded  degraded    degraded      256\n",
       "                      improved       13\n",
       "          improved    degraded       13\n",
       "                      improved        2\n",
       "improved  degraded    degraded       94\n",
       "                      improved        9\n",
       "          improved    degraded       10\n",
       "                      improved        3\n",
       "Name: ID, dtype: int64"
      ]
     },
     "execution_count": 33,
     "metadata": {},
     "output_type": "execute_result"
    }
   ],
   "source": [
    "results_df.groupby(['mosnet', 'google_asr', 'amazon_asr'])['ID'].count()"
   ]
  },
  {
   "cell_type": "code",
   "execution_count": 50,
   "metadata": {},
   "outputs": [],
   "source": [
    "subset=results_df\n",
    "subset=subset[subset['mosnet']=='improved']\n",
    "# subset=subset[subset['google_asr']=='improved']\n",
    "subset=subset[subset['amazon_asr']=='improved']"
   ]
  },
  {
   "cell_type": "code",
   "execution_count": 51,
   "metadata": {},
   "outputs": [
    {
     "data": {
      "text/plain": [
       "['mix104_1.wav',\n",
       " 'mix106_2.wav',\n",
       " 'mix120_2.wav',\n",
       " 'mix147_2.wav',\n",
       " 'mix155_2.wav',\n",
       " 'mix171_1.wav',\n",
       " 'mix191_2.wav',\n",
       " 'mix192_1.wav',\n",
       " 'mix196_1.wav',\n",
       " 'mix53_1.wav',\n",
       " 'mix78_2.wav',\n",
       " 'mix79_1.wav']"
      ]
     },
     "execution_count": 51,
     "metadata": {},
     "output_type": "execute_result"
    }
   ],
   "source": [
    "subset.sort_values(by='name')['name'].tolist()"
   ]
  }
 ],
 "metadata": {
  "kernelspec": {
   "display_name": "Python 3",
   "language": "python",
   "name": "python3"
  },
  "language_info": {
   "codemirror_mode": {
    "name": "ipython",
    "version": 3
   },
   "file_extension": ".py",
   "mimetype": "text/x-python",
   "name": "python",
   "nbconvert_exporter": "python",
   "pygments_lexer": "ipython3",
   "version": "3.8.10"
  }
 },
 "nbformat": 4,
 "nbformat_minor": 4
}
